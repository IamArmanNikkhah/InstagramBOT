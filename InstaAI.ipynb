{
  "nbformat": 4,
  "nbformat_minor": 0,
  "metadata": {
    "colab": {
      "name": "InstaAI.ipynb",
      "provenance": [],
      "collapsed_sections": [],
      "authorship_tag": "ABX9TyN0MFVjgZFI4WbXQw2cIZ1d",
      "include_colab_link": true
    },
    "kernelspec": {
      "name": "python3",
      "display_name": "Python 3"
    },
    "language_info": {
      "name": "python"
    }
  },
  "cells": [
    {
      "cell_type": "markdown",
      "metadata": {
        "id": "view-in-github",
        "colab_type": "text"
      },
      "source": [
        "<a href=\"https://colab.research.google.com/github/IamArmanNikkhah/InstagramBOT/blob/main/InstaAI.ipynb\" target=\"_parent\"><img src=\"https://colab.research.google.com/assets/colab-badge.svg\" alt=\"Open In Colab\"/></a>"
      ]
    },
    {
      "cell_type": "markdown",
      "source": [
        "# Instagram Bot"
      ],
      "metadata": {
        "id": "hsoFFxXFO-YM"
      }
    },
    {
      "cell_type": "code",
      "source": [
        "!pip install Instaloader"
      ],
      "metadata": {
        "id": "bP8YuE5IxZys"
      },
      "execution_count": null,
      "outputs": []
    },
    {
      "cell_type": "code",
      "source": [
        "import instaloader\n",
        "import os\n",
        "import shutil"
      ],
      "metadata": {
        "id": "4ykyWrI_tkJG"
      },
      "execution_count": null,
      "outputs": []
    },
    {
      "cell_type": "code",
      "source": [
        "class InstaBot:\n",
        "  \n",
        "  def __init__(self):\n",
        "    self.loader = instaloader.Instaloader()\n",
        "\n",
        "  def login(self, username, password):\n",
        "    # Login or load session\n",
        "    self.loader.login(username, password)          # (login)\n",
        "  \n",
        "  def getFollowers(self, username):\n",
        "    # Obtain profile metadata\n",
        "    Followers_list = []\n",
        "    profile = instaloader.Profile.from_username(self.loader.context, username)\n",
        "    for profile in profile.get_followers():\n",
        "      Followers_list.append(profile.username)\n",
        "    return Followers_list\n",
        "\n",
        "  def getFollowees(self, username):\n",
        "    Followees_list = []\n",
        "    profile = instaloader.Profile.from_username(self.loader.context, username)\n",
        "    for profile in profile.get_followees():\n",
        "      Followees_list.append(profile.username)\n",
        "    return Followees_list\n",
        "  \n",
        "  def downloadProfilePic(self, usernames_list):\n",
        "    for username in usernames_list:\n",
        "      self.loader.download_profile(username, profile_pic_only=True)\n",
        "\n",
        "  def find_jpg(self, path=\"./\"):\n",
        "    \"\"\"\n",
        "    Find all jpg files in a directory\n",
        "    \"\"\"\n",
        "    jpg_files = []\n",
        "    for root, dirs, files in os.walk(path):\n",
        "        for file in files:\n",
        "            if file.endswith(\".jpg\"):\n",
        "                os.rename(os.path.join(root, file), os.path.join(root, root[2:] + '.jpg'))\n",
        "                jpg_files.append(os.path.join(root, file))\n",
        "    return jpg_files\n",
        "\n",
        "  def copy_jpg(self, jpg_files, new_path):\n",
        "    \"\"\"\n",
        "    Copy jpg files in a new folder\n",
        "    \"\"\"\n",
        "    for jpg_file in jpg_files:\n",
        "        shutil.copy(jpg_file, new_path)\n",
        "  \n",
        "  def putALLtogether(self):\n",
        "    path = \"./\"\n",
        "    new_path = \"/content/jpg_files\"\n",
        "    jpg_files = self.find_jpg(path)\n",
        "    self.copy_jpg(jpg_files, new_path)"
      ],
      "metadata": {
        "id": "8TXfY2hHtmNy"
      },
      "execution_count": null,
      "outputs": []
    },
    {
      "cell_type": "code",
      "source": [
        "bot = InstaBot()\n",
        "bot.login(\"nikkhah_arman\",\"gJu%HqobZ$3G5D7^V98Th\")"
      ],
      "metadata": {
        "id": "jJyZt1GwxnIM"
      },
      "execution_count": null,
      "outputs": []
    },
    {
      "cell_type": "code",
      "source": [
        "bot.downloadProfilePic([\"markmanson\",\"pryw.k\",\"s__o___nour\"])\n",
        "bot.find_jpg(\"./\")\n",
        "bot.putALLtogether()"
      ],
      "metadata": {
        "id": "V374-Bje7MGz"
      },
      "execution_count": null,
      "outputs": []
    },
    {
      "cell_type": "markdown",
      "source": [
        "# Gender Classification"
      ],
      "metadata": {
        "id": "SXS5j5uEPDRV"
      }
    },
    {
      "cell_type": "code",
      "source": [
        "import torch\n",
        "import torch.nn as nn\n",
        "import torchvision\n",
        "import pandas as pd\n",
        "import numpy as np\n",
        "import cv2\n",
        "import matplotlib.pyplot as plt\n",
        "from PIL import Image\n",
        "from torchvision.io import read_image\n",
        "from torchvision import datasets, models, transforms\n",
        "from google.colab.patches import cv2_imshow\n",
        "from torch.utils.data import Dataset"
      ],
      "metadata": {
        "id": "2oPkN6xNPc2d"
      },
      "execution_count": null,
      "outputs": []
    },
    {
      "cell_type": "code",
      "source": [
        "!wget https://postechackr-my.sharepoint.com/:u:/g/personal/dongbinna_postech_ac_kr/EVd9bFWzqztMrXRDdNnCHQkBsHaM4n5_1q1fue77vtQVtw?download=1 -O classification_model.pth\n",
        "!wget --no-check-certificate \\\n",
        "    https://raw.githubusercontent.com/computationalcore/introduction-to-opencv/master/assets/test.jpg \\\n",
        "    -O test.jpg\n",
        "!wget --no-check-certificate \\\n",
        "    https://raw.githubusercontent.com/computationalcore/introduction-to-opencv/master/assets/haarcascade_frontalface_default.xml \\\n",
        "    -O haarcascade_frontalface_default.xml\n",
        "!wget --no-check-certificate \\\n",
        "    https://raw.githubusercontent.com/computationalcore/introduction-to-opencv/master/assets/haarcascade_smile.xml \\\n",
        "    -O haarcascade_smile.xml\n",
        "!wget --no-check-certificate \\\n",
        "    https://raw.githubusercontent.com/computationalcore/introduction-to-opencv/master/assets/haarcascade_eye.xml \\\n",
        "    -O haarcascade_eye.xml\n",
        "!wget --no-check-certificate \\\n",
        "    https://raw.githubusercontent.com/computationalcore/introduction-to-opencv/master/utils/common.py \\\n",
        "    -O common.py"
      ],
      "metadata": {
        "id": "K9TmADieuRCI"
      },
      "execution_count": null,
      "outputs": []
    },
    {
      "cell_type": "code",
      "source": [
        "device = torch.device(\"cuda:0\" if torch.cuda.is_available() else \"cpu\") # device object"
      ],
      "metadata": {
        "id": "gfyTKRtAPi0Z"
      },
      "execution_count": null,
      "outputs": []
    },
    {
      "cell_type": "code",
      "source": [
        "class CustomDataset(Dataset):\n",
        "    def __init__(self, dir_path = \"/content/jpg_files\"):\n",
        "        self.img_dir        =  dir_path\n",
        "        self.transforms_val = transforms.Compose([\n",
        "        transforms.Resize((224, 224)),\n",
        "        transforms.ToTensor(),\n",
        "        transforms.Normalize([0.485, 0.456, 0.406], [0.229, 0.224, 0.225])\n",
        "        ])\n",
        "        self.detector    = faceDetector()\n",
        "        self.images_list = self.makeListofImages()\n",
        "\n",
        "    def __getitem__(self, index):\n",
        "        # TODO\n",
        "        # 1. Read one data from file (e.g. using numpy.fromfile, PIL.Image.open).\n",
        "        img_path = self.images_list[index]\n",
        "        img      = Image.open(img_path)\n",
        "        # 2. Preprocess the data (e.g. torchvision.Transform).\n",
        "        face  = self.detector.returnFaces(img_path)\n",
        "        face_t = self.transforms_val(face)\n",
        "        # 3. Return a data pair (e.g. image and label).\n",
        "        if face is None:\n",
        "          return face_t, \"Woman\"\n",
        "        else:\n",
        "          return face_t, \"NG\"\n",
        "    \n",
        "    def __len__(self):\n",
        "        # You should change 0 to the total size of your dataset.\n",
        "        return len(self.images_list) \n",
        "\n",
        "    def makeListofImages(self):\n",
        "      \"\"\"\n",
        "      Find all jpg files in a directory\n",
        "      \"\"\"\n",
        "      jpg_files = []\n",
        "      for root, dirs, files in os.walk(self.img_dir):\n",
        "        for file in files:\n",
        "          if file.endswith(\".jpg\"):\n",
        "            jpg_files.append(os.path.join(root, file))\n",
        "      return jpg_files\n",
        "\n",
        "# Then, you can just use prebuilt torch's data loader. \n",
        "custom_dataset = CustomDataset()\n",
        "train_loader = torch.utils.data.DataLoader(dataset=custom_dataset,\n",
        "                                           batch_size=16, \n",
        "                                           shuffle=True)"
      ],
      "metadata": {
        "id": "RtVlEuP5fBKB"
      },
      "execution_count": null,
      "outputs": []
    },
    {
      "cell_type": "code",
      "source": [
        "class faceDetector:\n",
        "  def __init__(self):\n",
        "    self.face_cascade = cv2.CascadeClassifier('/content/haarcascade_frontalface_default.xml')\n",
        "\n",
        "  def crop_face(self, image, face_coordinates):\n",
        "    x, y, w, h = face_coordinates\n",
        "    return image[y:y+h, x:x+w]\n",
        "\n",
        "  def detect_face(self, image):\n",
        "    faces = self.face_cascade.detectMultiScale(image, scaleFactor=1.2, minNeighbors=5)\n",
        "    if len(faces) == 0:\n",
        "        return None\n",
        "    return faces[0]\n",
        "\n",
        "  def resize_image(self, image, size=(224, 224)):\n",
        "    return cv2.resize(image, size)\n",
        "\n",
        "  def detect_and_crop_face(self, image):\n",
        "    face = self.detect_face(image)\n",
        "    if face is not None:\n",
        "        return self.resize_image(self.crop_face(image, face))\n",
        "    return None\n",
        "\n",
        "  def load_image(self, path):\n",
        "    image = cv2.imread(path)\n",
        "    gray  = cv2.cvtColor(image, cv2.COLOR_BGR2GRAY)\n",
        "    return gray\n",
        "\n",
        "  def returnFaces(self, img_path):\n",
        "    image = self.load_image(img_path)\n",
        "    face = self.detect_and_crop_face(image)\n",
        "    return face\n"
      ],
      "metadata": {
        "id": "TbDW2Z42mIYF"
      },
      "execution_count": null,
      "outputs": []
    }
  ]
}